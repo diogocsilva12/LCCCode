{
 "cells": [
  {
   "cell_type": "code",
   "execution_count": null,
   "metadata": {},
   "outputs": [],
   "source": [
    "import pennylane as qml\n",
    "import numpy as np   "
   ]
  },
  {
   "cell_type": "code",
   "execution_count": 23,
   "metadata": {},
   "outputs": [],
   "source": [
    "n_qubits = 1 # Number of system qubits.\n",
    "\n",
    "dev = qml.device('default.qubit', wires=n_qubits,shots=50) # Use the default qubit simulator. Shots is the number of samples used to estimate expectation values.\n",
    "dev = qml.device('default.qubit', wires=n_qubits)"
   ]
  },
  {
   "cell_type": "code",
   "execution_count": 24,
   "metadata": {},
   "outputs": [],
   "source": [
    "@qml.qnode(dev) # Define the quantum node, lets python recongnize the quantum circuit as a function\n",
    "def circuito():\n",
    "    #Operations with one qubit\n",
    "    # Define the quantum circuit\n",
    "    #qml.PauliX(wires=0) # Apply the Pauli-X gate to the first qubit\n",
    "    #qml.PauliZ(wires=0) # Apply the Pauli-Z gate to the first qubit\n",
    "    qml.Hadamard(wires=0) # Apply the Hadamard gate to the first qubit\n",
    "    #return qml.probs(wires=0) # Return the probabilities of the qubits\n",
    "    return qml.state() # Return the state of the qubits"
   ]
  },
  {
   "cell_type": "code",
   "execution_count": 25,
   "metadata": {},
   "outputs": [
    {
     "data": {
      "text/plain": [
       "tensor([0.70710678+0.j, 0.70710678+0.j], requires_grad=True)"
      ]
     },
     "execution_count": 25,
     "metadata": {},
     "output_type": "execute_result"
    }
   ],
   "source": [
    "circuito()"
   ]
  },
  {
   "cell_type": "markdown",
   "metadata": {},
   "source": [
    "tensor([1.,0.]) -> significa que medimos o estado 0 com probabilidade 1 e o estado 1 com probabilidade 0 (ou seja, o estado 0 é o estado medido)."
   ]
  },
  {
   "cell_type": "code",
   "execution_count": 26,
   "metadata": {},
   "outputs": [
    {
     "data": {
      "text/plain": [
       "(<Figure size 400x200 with 1 Axes>, <Axes: >)"
      ]
     },
     "execution_count": 26,
     "metadata": {},
     "output_type": "execute_result"
    },
    {
     "data": {
      "image/png": "[encoded data removed]",
      "text/plain": [
       "<Figure size 400x200 with 1 Axes>"
      ]
     },
     "metadata": {},
     "output_type": "display_data"
    }
   ],
   "source": [
    "#qml.draw(circuito)()# Draw the circuit\n",
    "qml.draw_mpl(circuito)() # Draw the circuit"
   ]
  },
  {
   "cell_type": "markdown",
   "metadata": {},
   "source": [
    "![Alternative Text](/lecture1/hadamard.png \"Optional Title\")"
   ]
  },
  {
   "cell_type": "code",
   "execution_count": 27,
   "metadata": {},
   "outputs": [
    {
     "name": "stdout",
     "output_type": "stream",
     "text": [
      "[0.8 0.2]\n"
     ]
    },
    {
     "data": {
      "text/plain": [
       "(<Figure size 400x200 with 1 Axes>, <Axes: >)"
      ]
     },
     "execution_count": 27,
     "metadata": {},
     "output_type": "execute_result"
    },
    {
     "data": {
      "image/png": "[encoded data removed]",
      "text/plain": [
       "<Figure size 400x200 with 1 Axes>"
      ]
     },
     "metadata": {},
     "output_type": "display_data"
    }
   ],
   "source": [
    "@qml.qnode(dev) # Define the quantum node, lets python recongnize the quantum circuit as a function\n",
    "def circuito():\n",
    "    qml.RY(2*np.arcsin(np.sqrt(0.2)),wires=0)\n",
    "    return qml.probs() # Return the state of the qubits\n",
    "\n",
    "print(circuito())\n",
    "qml.draw_mpl(circuito)() # Draw the circuit"
   ]
  }
 ],
 "metadata": {
  "kernelspec": {
   "display_name": "IC",
   "language": "python",
   "name": "python3"
  },
  "language_info": {
   "codemirror_mode": {
    "name": "ipython",
    "version": 3
   },
   "file_extension": ".py",
   "mimetype": "text/x-python",
   "name": "python",
   "nbconvert_exporter": "python",
   "pygments_lexer": "ipython3",
   "version": "3.12.8"
  }
 },
 "nbformat": 4,
 "nbformat_minor": 2
}
