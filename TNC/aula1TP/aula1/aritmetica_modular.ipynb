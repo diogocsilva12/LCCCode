{
 "cells": [
  {
   "cell_type": "markdown",
   "id": "53b621",
   "metadata": {
    "collapsed": false
   },
   "source": [
    "<span style='font-size:xx-large'>**aritmética modular**</span>\n"
   ]
  },
  {
   "cell_type": "markdown",
   "id": "d5bd79",
   "metadata": {
    "collapsed": false
   },
   "source": [
    "Dado $n \\in \\mathbb{N}, a \\in \\mathbb{Z}_n$, sabemos que existe inverso multiplicativo de $a$ módulo $n$ se e só se ${\\textrm m.d.c.}(a, n)=1$.\n",
    "\n"
   ]
  },
  {
   "cell_type": "code",
   "execution_count": 0,
   "id": "f54048",
   "metadata": {
    "collapsed": false
   },
   "outputs": [
   ],
   "source": [
    "n = 21"
   ]
  },
  {
   "cell_type": "code",
   "execution_count": 0,
   "id": "34579e",
   "metadata": {
    "collapsed": false
   },
   "outputs": [
   ],
   "source": [
    "n"
   ]
  },
  {
   "cell_type": "code",
   "execution_count": 0,
   "id": "e711cf",
   "metadata": {
    "collapsed": false
   },
   "outputs": [
   ],
   "source": [
    "Zn = IntegerModRing(n)\n",
    "Zn"
   ]
  },
  {
   "cell_type": "code",
   "execution_count": 0,
   "id": "676890",
   "metadata": {
    "collapsed": false
   },
   "outputs": [
   ],
   "source": [
    "Zn(19)+Zn(20)"
   ]
  },
  {
   "cell_type": "code",
   "execution_count": 0,
   "id": "0cca04",
   "metadata": {
    "collapsed": false
   },
   "outputs": [
   ],
   "source": [
    "Zn(-2)"
   ]
  },
  {
   "cell_type": "code",
   "execution_count": 0,
   "id": "518cb8",
   "metadata": {
    "collapsed": false
   },
   "outputs": [
   ],
   "source": [
    "Zn(19)+Zn(2)"
   ]
  },
  {
   "cell_type": "code",
   "execution_count": 0,
   "id": "d08269",
   "metadata": {
    "collapsed": false
   },
   "outputs": [
   ],
   "source": [
    "Zn(-3)"
   ]
  },
  {
   "cell_type": "code",
   "execution_count": 0,
   "id": "1823bb",
   "metadata": {
    "collapsed": false
   },
   "outputs": [
   ],
   "source": [
    "Zn(2)*Zn(11)"
   ]
  },
  {
   "cell_type": "code",
   "execution_count": 0,
   "id": "90360b",
   "metadata": {
    "collapsed": false
   },
   "outputs": [
   ],
   "source": [
    "1/Zn(2)"
   ]
  },
  {
   "cell_type": "code",
   "execution_count": 0,
   "id": "afdfc3",
   "metadata": {
    "collapsed": false,
    "scrolled": true
   },
   "outputs": [
   ],
   "source": [
    "1/Zn(9)"
   ]
  },
  {
   "cell_type": "code",
   "execution_count": 0,
   "id": "3c8383",
   "metadata": {
    "collapsed": false
   },
   "outputs": [
   ],
   "source": [
    "Zn(6)*Zn(14)"
   ]
  },
  {
   "cell_type": "code",
   "execution_count": 0,
   "id": "a00838",
   "metadata": {
    "collapsed": false
   },
   "outputs": [
   ],
   "source": [
    "Zn"
   ]
  },
  {
   "cell_type": "code",
   "execution_count": 0,
   "id": "a8bde2",
   "metadata": {
    "collapsed": false
   },
   "outputs": [
   ],
   "source": [
    "invertivel = [a for a in Zn if gcd(a, n) == 1]\n",
    "invertivel"
   ]
  },
  {
   "cell_type": "code",
   "execution_count": 0,
   "id": "a54445",
   "metadata": {
    "collapsed": false
   },
   "outputs": [
   ],
   "source": [
    "Zn(19) == Zn(-2)"
   ]
  },
  {
   "cell_type": "code",
   "execution_count": 0,
   "id": "d0b259",
   "metadata": {
    "collapsed": false
   },
   "outputs": [
   ],
   "source": [
    "Zn(-11)==Zn(10)"
   ]
  },
  {
   "cell_type": "code",
   "execution_count": 0,
   "id": "521ce6",
   "metadata": {
    "collapsed": false
   },
   "outputs": [
   ],
   "source": [
    "1/Zn(10)"
   ]
  },
  {
   "cell_type": "code",
   "execution_count": 0,
   "id": "5b40fa",
   "metadata": {
    "collapsed": false
   },
   "outputs": [
   ],
   "source": [
    "[(a, 1/a) for a in invertivel]"
   ]
  },
  {
   "cell_type": "code",
   "execution_count": 0,
   "id": "f8c290",
   "metadata": {
    "collapsed": false
   },
   "outputs": [
   ],
   "source": [
    "power_mod??"
   ]
  },
  {
   "cell_type": "code",
   "execution_count": 0,
   "id": "7bcbae",
   "metadata": {
    "collapsed": false
   },
   "outputs": [
   ],
   "source": [
    "n = 21\n",
    "Zn = IntegerModRing(n)\n",
    "Zn"
   ]
  },
  {
   "cell_type": "code",
   "execution_count": 0,
   "id": "f8a233",
   "metadata": {
    "collapsed": false
   },
   "outputs": [
   ],
   "source": [
    "a = Zn(16)\n",
    "1/a"
   ]
  },
  {
   "cell_type": "code",
   "execution_count": 0,
   "id": "330bca",
   "metadata": {
    "collapsed": false
   },
   "outputs": [
   ],
   "source": [
    "power_mod(16, -1, 21)"
   ]
  },
  {
   "cell_type": "code",
   "execution_count": 0,
   "id": "fe62d7",
   "metadata": {
    "collapsed": false
   },
   "outputs": [
   ],
   "source": [
    "type(1/a)"
   ]
  },
  {
   "cell_type": "code",
   "execution_count": 0,
   "id": "5fca25",
   "metadata": {
    "collapsed": false
   },
   "outputs": [
   ],
   "source": [
    "ZZ(1/a)"
   ]
  },
  {
   "cell_type": "code",
   "execution_count": 0,
   "id": "5c7b4a",
   "metadata": {
    "collapsed": false
   },
   "outputs": [
   ],
   "source": [
    "ZZ"
   ]
  },
  {
   "cell_type": "code",
   "execution_count": 0,
   "id": "2c8d18",
   "metadata": {
    "collapsed": false
   },
   "outputs": [
   ],
   "source": [
    "QQ"
   ]
  },
  {
   "cell_type": "code",
   "execution_count": 0,
   "id": "4d2392",
   "metadata": {
    "collapsed": false
   },
   "outputs": [
   ],
   "source": [
    "CC"
   ]
  },
  {
   "cell_type": "code",
   "execution_count": 0,
   "id": "f86075",
   "metadata": {
    "collapsed": false
   },
   "outputs": [
   ],
   "source": [
    "RR"
   ]
  },
  {
   "cell_type": "code",
   "execution_count": 0,
   "id": "2d03c7",
   "metadata": {
    "collapsed": false
   },
   "outputs": [
   ],
   "source": [
    "latex(factor(2^4*3^2*11^3))"
   ]
  }
 ],
 "metadata": {
  "kernelspec": {
   "argv": [
    "sage-9.8",
    "--python",
    "-m",
    "sage.repl.ipython_kernel",
    "--matplotlib=inline",
    "-f",
    "{connection_file}"
   ],
   "display_name": "SageMath 9.8",
   "env": {
   },
   "language": "sagemath",
   "metadata": {
    "cocalc": {
     "description": "Open-source mathematical software system",
     "priority": 1,
     "url": "https://www.sagemath.org/"
    }
   },
   "name": "sage-9.8",
   "resource_dir": "/ext/jupyter/kernels/sage-9.8"
  },
  "nbgrader": {
   "cocalc_minimal_stubs": false
  }
 },
 "nbformat": 4,
 "nbformat_minor": 4
}