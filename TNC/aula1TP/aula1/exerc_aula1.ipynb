{
 "cells": [
  {
   "cell_type": "markdown",
   "id": "afbeb2",
   "metadata": {
    "collapsed": false
   },
   "source": [
    "## algoritmo de Euclides estendido"
   ]
  },
  {
   "cell_type": "markdown",
   "id": "779b3c",
   "metadata": {
    "collapsed": false
   },
   "source": [
    "Sejam $a,n$ naturais tais que ${\\rm mdc}(a,n)=1$.\n",
    "\n",
    "Do algoritmo de Euclides estendido, sabemos que existem inteiros $x,y$ tais que $$ax+ny=1.$$\n",
    "Assim, $$ax=1-ny,$$ donde $$ax \\equiv 1\\ (\\!\\!\\!\\!\\mod n).$$\n",
    "\n",
    "Sabemos que um elemento b em $\\mathbb{Z}_n$ é invertível sse ${\\rm mdc}(b,n)=1$. Segue-se que o inverso de $a$ em $\\mathbb{Z}_n$ é $x$.\n",
    "\n",
    "Se usarmos o código ${\\rm xgcd}(a,n)$, obtemos um terno $(g,s,t)$ tal que $g=s*a+t*n={\\rm mdc}(a,n)$.\n",
    "\n",
    "Assim, o inverso módulo $n$ de $a$ é o elemento $s$ do referido terno.\n",
    "\n"
   ]
  },
  {
   "cell_type": "markdown",
   "id": "823aa0",
   "metadata": {
    "collapsed": false
   },
   "source": [
    "## exercício 1a\\)\n",
    "\n"
   ]
  },
  {
   "cell_type": "markdown",
   "id": "f37529",
   "metadata": {
    "collapsed": false
   },
   "source": [
    "Use o algoritmo estendido de Euclides para encontrar $x,y\\in\\ZZ$ para os quais $mdc(a,b)=ax+by$, onde $a$ e $b$ são, respetivamente,\n",
    "\n",
    "$43,33$\n",
    "\n"
   ]
  },
  {
   "cell_type": "code",
   "execution_count": 0,
   "id": "1d8cd7",
   "metadata": {
    "collapsed": false
   },
   "outputs": [
   ],
   "source": [
    "a=43\n",
    "b=33"
   ]
  },
  {
   "cell_type": "code",
   "execution_count": 0,
   "id": "1ebb90",
   "metadata": {
    "collapsed": false
   },
   "outputs": [
   ],
   "source": [
    "xgcd(a,b)          #   mdc(a,b)=a*x+b*y  &   xgcd(a,b)=(mdc(a,b),x,y)"
   ]
  },
  {
   "cell_type": "code",
   "execution_count": 0,
   "id": "25f449",
   "metadata": {
    "collapsed": false
   },
   "outputs": [
   ],
   "source": [
    "gcd(a,b)"
   ]
  },
  {
   "cell_type": "markdown",
   "id": "93b39f",
   "metadata": {
    "collapsed": false
   },
   "source": [
    "$x=10$ e $y=-13$\n",
    "\n",
    "O primeiro elemento do terno é ${\\rm mdc}(a,b)$\n",
    "\n"
   ]
  },
  {
   "cell_type": "markdown",
   "id": "bbfc96",
   "metadata": {
    "collapsed": false
   },
   "source": [
    "## exercício 1n\\)\n",
    "\n"
   ]
  },
  {
   "cell_type": "code",
   "execution_count": 0,
   "id": "ea127c",
   "metadata": {
    "collapsed": false
   },
   "outputs": [
   ],
   "source": [
    "xgcd(11111111111,1000000001)"
   ]
  },
  {
   "cell_type": "code",
   "execution_count": 0,
   "id": "ad4297",
   "metadata": {
    "collapsed": false
   },
   "outputs": [
   ],
   "source": [
   ]
  },
  {
   "cell_type": "code",
   "execution_count": 0,
   "id": "32696c",
   "metadata": {
    "collapsed": false
   },
   "outputs": [
   ],
   "source": [
   ]
  },
  {
   "cell_type": "code",
   "execution_count": 0,
   "id": "2c8665",
   "metadata": {
    "collapsed": false
   },
   "outputs": [
   ],
   "source": [
   ]
  },
  {
   "cell_type": "markdown",
   "id": "1d13e0",
   "metadata": {
    "collapsed": false
   },
   "source": [
    "## exercício 2a\\)\n",
    "\n"
   ]
  },
  {
   "cell_type": "markdown",
   "id": "c8bd08",
   "metadata": {
    "collapsed": false
   },
   "source": [
    "Verifique que $mdc\n",
    "(a,n)=1$ e determine $a^{-1}$, para\n",
    "\n",
    "a) $a=77$; $n=100$.\n",
    "\n"
   ]
  },
  {
   "cell_type": "code",
   "execution_count": 0,
   "id": "10f1cc",
   "metadata": {
    "collapsed": false
   },
   "outputs": [
   ],
   "source": [
    "n=100"
   ]
  },
  {
   "cell_type": "code",
   "execution_count": 0,
   "id": "18cb93",
   "metadata": {
    "collapsed": false
   },
   "outputs": [
   ],
   "source": [
    "Zn=IntegerModRing(n)\n",
    "Zn"
   ]
  },
  {
   "cell_type": "code",
   "execution_count": 0,
   "id": "dd768a",
   "metadata": {
    "collapsed": false
   },
   "outputs": [
   ],
   "source": [
    "unidades=[k for k in Zn if gcd(k,n)==1]\n",
    "unidades"
   ]
  },
  {
   "cell_type": "code",
   "execution_count": 0,
   "id": "19efc7",
   "metadata": {
    "collapsed": false
   },
   "outputs": [
   ],
   "source": [
    "a=77\n",
    "gcd(a,n)"
   ]
  },
  {
   "cell_type": "code",
   "execution_count": 0,
   "id": "b769e3",
   "metadata": {
    "collapsed": false
   },
   "outputs": [
   ],
   "source": [
    "a^(-1)    # calcula o inverso de a no anel dos reais"
   ]
  },
  {
   "cell_type": "code",
   "execution_count": 0,
   "id": "bf8505",
   "metadata": {
    "collapsed": false
   },
   "outputs": [
   ],
   "source": [
    "type(a)"
   ]
  },
  {
   "cell_type": "code",
   "execution_count": 0,
   "id": "6a1a07",
   "metadata": {
    "collapsed": false
   },
   "outputs": [
   ],
   "source": [
    "xgcd(a,n)"
   ]
  },
  {
   "cell_type": "markdown",
   "id": "b7ed0d",
   "metadata": {
    "collapsed": false
   },
   "source": [
    "## OBS.:"
   ]
  },
  {
   "cell_type": "markdown",
   "id": "700a7e",
   "metadata": {
    "collapsed": false
   },
   "source": [
    "${\\rm xgcd}(a,n)$ devolve um terno em que o primeiro elemento é ${\\rm mdc}(a,n)$, o segundo elemento é o inverso de $a\\ (\\!\\!\\!\\!\\mod n)$\n",
    "\n",
    "$1=13*a+(-10)*n$"
   ]
  },
  {
   "cell_type": "code",
   "execution_count": 0,
   "id": "a1a4b1",
   "metadata": {
    "collapsed": false
   },
   "outputs": [
   ],
   "source": [
    "1==13*a+(-10)*n"
   ]
  },
  {
   "cell_type": "markdown",
   "id": "7ffb3f",
   "metadata": {
    "collapsed": false
   },
   "source": [
    "## OBS.:"
   ]
  },
  {
   "cell_type": "markdown",
   "id": "22722c",
   "metadata": {
    "collapsed": false
   },
   "source": [
    "Podemos concluir que $a^{-1}$ é 13 (inverso de $a$ módulo $n$)"
   ]
  },
  {
   "cell_type": "code",
   "execution_count": 0,
   "id": "31d17d",
   "metadata": {
    "collapsed": false
   },
   "outputs": [
   ],
   "source": [
    "xgcd?"
   ]
  },
  {
   "cell_type": "code",
   "execution_count": 0,
   "id": "75c38e",
   "metadata": {
    "collapsed": false
   },
   "outputs": [
   ],
   "source": [
    "a=Zn(77)"
   ]
  },
  {
   "cell_type": "code",
   "execution_count": 0,
   "id": "d591bb",
   "metadata": {
    "collapsed": false
   },
   "outputs": [
   ],
   "source": [
    "type(a)"
   ]
  },
  {
   "cell_type": "code",
   "execution_count": 0,
   "id": "111488",
   "metadata": {
    "collapsed": false
   },
   "outputs": [
   ],
   "source": [
    "a^(-1)     # ou 1/a"
   ]
  },
  {
   "cell_type": "markdown",
   "id": "c88ba3",
   "metadata": {
    "collapsed": false
   },
   "source": [
    "<span style='font-size:x-large'>**exercício 2b\\)**</span>\n"
   ]
  },
  {
   "cell_type": "markdown",
   "id": "9965b4",
   "metadata": {
    "collapsed": false
   },
   "source": [
    "$a=121$, $n=224$\n",
    "\n"
   ]
  },
  {
   "cell_type": "code",
   "execution_count": 0,
   "id": "795ec4",
   "metadata": {
    "collapsed": false
   },
   "outputs": [
   ],
   "source": [
    "n=224\n",
    "Zn=IntegerModRing(n)\n",
    "Zn"
   ]
  },
  {
   "cell_type": "code",
   "execution_count": 0,
   "id": "eb9838",
   "metadata": {
    "collapsed": false
   },
   "outputs": [
   ],
   "source": [
    "a=121          # o inverso de a é -87 (módulo 224)\n",
    "xgcd(a,n)"
   ]
  },
  {
   "cell_type": "code",
   "execution_count": 0,
   "id": "6aa996",
   "metadata": {
    "collapsed": false
   },
   "outputs": [
   ],
   "source": [
    "a=Zn(121)"
   ]
  },
  {
   "cell_type": "code",
   "execution_count": 0,
   "id": "943b5a",
   "metadata": {
    "collapsed": false
   },
   "outputs": [
   ],
   "source": [
    "a^(-1)          # o inverso de a é 137 (módulo 224)"
   ]
  },
  {
   "cell_type": "code",
   "execution_count": 0,
   "id": "d31c30",
   "metadata": {
    "collapsed": false
   },
   "outputs": [
   ],
   "source": [
    "Zn(-87)"
   ]
  },
  {
   "cell_type": "code",
   "execution_count": 0,
   "id": "8088e9",
   "metadata": {
    "collapsed": false
   },
   "outputs": [
   ],
   "source": [
    "a*137"
   ]
  },
  {
   "cell_type": "code",
   "execution_count": 0,
   "id": "d1604d",
   "metadata": {
    "collapsed": false
   },
   "outputs": [
   ],
   "source": [
    "a*201           # 121*201=24321 é congruente com 129 módulo 224"
   ]
  },
  {
   "cell_type": "code",
   "execution_count": 0,
   "id": "fb8075",
   "metadata": {
    "collapsed": false
   },
   "outputs": [
   ],
   "source": [
    "n=5\n",
    "Zn=IntegerModRing(n)\n",
    "Zn"
   ]
  },
  {
   "cell_type": "code",
   "execution_count": 0,
   "id": "c3a1d8",
   "metadata": {
    "collapsed": false
   },
   "outputs": [
   ],
   "source": [
    "Zn.addition_table()"
   ]
  },
  {
   "cell_type": "code",
   "execution_count": 0,
   "id": "5f21b2",
   "metadata": {
    "collapsed": false,
    "scrolled": true
   },
   "outputs": [
   ],
   "source": [
    "Zn.multiplication_table()"
   ]
  },
  {
   "cell_type": "markdown",
   "id": "6357b0",
   "metadata": {
    "collapsed": false
   },
   "source": [
    "## Pequeno Teorema de Fermat"
   ]
  },
  {
   "cell_type": "markdown",
   "id": "642091",
   "metadata": {
    "collapsed": false
   },
   "source": [
    "Pequeno Teorema de Fermat: $n$ primo, $1 < a < n$, e $mdc(a, n)=1$ então $$a^{n-1} \\equiv 1\\ (\\!\\!\\!\\!\\mod n).$$ \n",
    "\n"
   ]
  },
  {
   "cell_type": "markdown",
   "id": "12649a",
   "metadata": {
    "collapsed": false
   },
   "source": [
    "Obs.: Se $a$ for tal que $1$&lt;$a$&lt;$n$ e mdc$(a,n)=1$ e se $$a^{n-1}\\not\\equiv 1\\ (\\!\\!\\!\\!\\mod n)$$ então $n$ não é primo.\n",
    "\n"
   ]
  },
  {
   "cell_type": "code",
   "execution_count": 0,
   "id": "57cad1",
   "metadata": {
    "collapsed": false
   },
   "outputs": [
   ],
   "source": [
    "n=15\n",
    "Zn=IntegerModRing(n)\n",
    "Zn"
   ]
  },
  {
   "cell_type": "code",
   "execution_count": 0,
   "id": "9a3687",
   "metadata": {
    "collapsed": false
   },
   "outputs": [
   ],
   "source": [
    "list(Zn)"
   ]
  },
  {
   "cell_type": "code",
   "execution_count": 0,
   "id": "ca9f56",
   "metadata": {
    "collapsed": false
   },
   "outputs": [
   ],
   "source": [
    "unidades=[a for a in Zn if gcd(a,n)==1]\n",
    "unidades"
   ]
  },
  {
   "cell_type": "code",
   "execution_count": 0,
   "id": "bfa8b7",
   "metadata": {
    "collapsed": false
   },
   "outputs": [
   ],
   "source": [
    "mod(2^(n-1),n)"
   ]
  },
  {
   "cell_type": "markdown",
   "id": "3c3bdc",
   "metadata": {
    "collapsed": false
   },
   "source": [
    "2 é primo com o 15; $2^{n-1}\\not\\equiv 1\\ (\\!\\!\\!\\!\\mod n)$; por isso, n=15 não é primo"
   ]
  },
  {
   "cell_type": "markdown",
   "id": "d910e0",
   "metadata": {
    "collapsed": false
   },
   "source": [
    "# exercício 3\n",
    "\n"
   ]
  },
  {
   "cell_type": "markdown",
   "id": "a67a09",
   "metadata": {
    "collapsed": false
   },
   "source": [
    "Seja $n=2^{512}+1$.\n",
    "\n",
    "(a) Considere $a=2$. Verifique se a tese do PTF é satisfeita.\n",
    "\n",
    "(b) Procure outros exemplos de bases que verifiquem a tese do teorema.\n",
    "\n",
    "(c) Mostre, usando o PTF, que o número $n$ não é primo"
   ]
  },
  {
   "cell_type": "code",
   "execution_count": 0,
   "id": "ad157c",
   "metadata": {
    "collapsed": false
   },
   "outputs": [
   ],
   "source": [
    "n=2^512+1"
   ]
  },
  {
   "cell_type": "code",
   "execution_count": 0,
   "id": "cdfc10",
   "metadata": {
    "collapsed": false
   },
   "outputs": [
   ],
   "source": [
    "n"
   ]
  },
  {
   "cell_type": "code",
   "execution_count": 0,
   "id": "3147bd",
   "metadata": {
    "collapsed": false
   },
   "outputs": [
   ],
   "source": [
    "n.ndigits()"
   ]
  },
  {
   "cell_type": "code",
   "execution_count": 0,
   "id": "42382b",
   "metadata": {
    "collapsed": false
   },
   "outputs": [
   ],
   "source": [
    "n.is_prime()"
   ]
  },
  {
   "cell_type": "code",
   "execution_count": 0,
   "id": "23d52e",
   "metadata": {
    "collapsed": false
   },
   "outputs": [
   ],
   "source": [
    "Zn=IntegerModRing(n)\n",
    "Zn"
   ]
  },
  {
   "cell_type": "code",
   "execution_count": 0,
   "id": "1dc4fd",
   "metadata": {
    "collapsed": false
   },
   "outputs": [
   ],
   "source": [
    "a=2"
   ]
  },
  {
   "cell_type": "code",
   "execution_count": 0,
   "id": "7646ce",
   "metadata": {
    "collapsed": false
   },
   "outputs": [
   ],
   "source": [
    "gcd(a,n)"
   ]
  },
  {
   "cell_type": "markdown",
   "id": "e6ba60",
   "metadata": {
    "collapsed": false
   },
   "source": [
    "# OBS.:"
   ]
  },
  {
   "cell_type": "markdown",
   "id": "a8e37e",
   "metadata": {
    "collapsed": false
   },
   "source": [
    "Pretendemos verificar que $a^{n-1}$ é congruente com $1$ módulo $n$"
   ]
  },
  {
   "cell_type": "code",
   "execution_count": 0,
   "id": "486a4c",
   "metadata": {
    "collapsed": false
   },
   "outputs": [
   ],
   "source": [
    "a^(n-1)%n        # mod(a^(n-1),n) \"OverflowError: exponent must be at most 9223372036854775807\""
   ]
  },
  {
   "cell_type": "code",
   "execution_count": 0,
   "id": "5f3e40",
   "metadata": {
    "collapsed": false
   },
   "outputs": [
   ],
   "source": [
    "power_mod(a,n-1,n)"
   ]
  },
  {
   "cell_type": "code",
   "execution_count": 0,
   "id": "f57fac",
   "metadata": {
    "collapsed": false
   },
   "outputs": [
   ],
   "source": [
    "a=Zn(2)"
   ]
  },
  {
   "cell_type": "code",
   "execution_count": 0,
   "id": "37db96",
   "metadata": {
    "collapsed": false
   },
   "outputs": [
   ],
   "source": [
    "mod(a^(n-1),n)"
   ]
  },
  {
   "cell_type": "markdown",
   "id": "ce7722",
   "metadata": {
    "collapsed": false
   },
   "source": [
    "## exercício 3b\\)\n",
    "\n"
   ]
  },
  {
   "cell_type": "markdown",
   "id": "f1af3a",
   "metadata": {
    "collapsed": false
   },
   "source": [
    "Pretendemos encontrar outros valores de $n$ tais que mdc$(2,n)=1$ e tais que $2^{n-1}$ seja congruente com $1$ módulo $n$.\n",
    "\n",
    "É claro que se $n$ for primo, então vai satisfazer a tese do PTF.\n",
    "\n",
    "Procuremos, então, $n$ não primo.\n",
    "\n"
   ]
  },
  {
   "cell_type": "code",
   "execution_count": 0,
   "id": "2bb0d9",
   "metadata": {
    "collapsed": false
   },
   "outputs": [
   ],
   "source": [
    "L=[n for n in range(1,1000) if gcd(2,n)==1 and not is_prime(n) and power_mod(2,n-1,n)==1]\n",
    "L"
   ]
  },
  {
   "cell_type": "code",
   "execution_count": 0,
   "id": "19330f",
   "metadata": {
    "collapsed": false
   },
   "outputs": [
   ],
   "source": [
    "factor(561)    # 561 não é primo"
   ]
  },
  {
   "cell_type": "code",
   "execution_count": 0,
   "id": "ee4b60",
   "metadata": {
    "collapsed": false
   },
   "outputs": [
   ],
   "source": [
    "Zp=IntegerModRing(561)\n",
    "gcd(2,561)"
   ]
  },
  {
   "cell_type": "code",
   "execution_count": 0,
   "id": "380bf2",
   "metadata": {
    "collapsed": false
   },
   "outputs": [
   ],
   "source": [
    "power_mod(2,560,561)"
   ]
  },
  {
   "cell_type": "markdown",
   "id": "cdab5f",
   "metadata": {
    "collapsed": false
   },
   "source": [
    "## alternativa"
   ]
  },
  {
   "cell_type": "code",
   "execution_count": 0,
   "id": "f2889d",
   "metadata": {
    "collapsed": false
   },
   "outputs": [
   ],
   "source": [
    "def sat_tese_PTF(k, a=2):\n",
    "    L=[n for n in range(1,k) if gcd(a,n)==1 and not is_prime(n) and power_mod(a,n-1,n)==1]\n",
    "    return L"
   ]
  },
  {
   "cell_type": "code",
   "execution_count": 0,
   "id": "8637c7",
   "metadata": {
    "collapsed": false
   },
   "outputs": [
   ],
   "source": [
    "sat_tese_PTF(1000)"
   ]
  },
  {
   "cell_type": "code",
   "execution_count": 0,
   "id": "7949ea",
   "metadata": {
    "collapsed": false
   },
   "outputs": [
   ],
   "source": [
    "sat_tese_PTF(3000)"
   ]
  },
  {
   "cell_type": "code",
   "execution_count": 0,
   "id": "30c7b2",
   "metadata": {
    "collapsed": false
   },
   "outputs": [
   ],
   "source": [
    "sat_tese_PTF(3000,3)"
   ]
  },
  {
   "cell_type": "markdown",
   "id": "4297dd",
   "metadata": {
    "collapsed": false
   },
   "source": [
    "## exercício 3c\\)\n",
    "\n"
   ]
  },
  {
   "cell_type": "markdown",
   "id": "ec3e11",
   "metadata": {
    "collapsed": false
   },
   "source": [
    "Pretendemos encontrar um valor de $a$ tal que $1$<$a$<$n$ e $(a,n)=1$, mas que seja tal que $a^{n-1}\\not\\equiv 1\\ (\\!\\!\\!\\!\\mod n)$.\n",
    "\n",
    "Deste modo podemos concluir que $n$ não é primo."
   ]
  },
  {
   "cell_type": "code",
   "execution_count": 0,
   "id": "22b53a",
   "metadata": {
    "collapsed": false
   },
   "outputs": [
   ],
   "source": [
    "n"
   ]
  },
  {
   "cell_type": "code",
   "execution_count": 0,
   "id": "944bf5",
   "metadata": {
    "collapsed": false
   },
   "outputs": [
   ],
   "source": [
    "for a in range(20):\n",
    "    if gcd(a,n)==1 and not power_mod(a,n-1,n)==1:\n",
    "        print(a)"
   ]
  },
  {
   "cell_type": "markdown",
   "id": "54cac6",
   "metadata": {
    "collapsed": false
   },
   "source": [
    "Como encontramos valores para a nestas condições, podemos concluir que n=2^512+1 não é primo"
   ]
  },
  {
   "cell_type": "code",
   "execution_count": 0,
   "id": "4d48a7",
   "metadata": {
    "collapsed": false
   },
   "outputs": [
   ],
   "source": [
   ]
  },
  {
   "cell_type": "code",
   "execution_count": 0,
   "id": "fdcd8a",
   "metadata": {
    "collapsed": false
   },
   "outputs": [
   ],
   "source": [
   ]
  },
  {
   "cell_type": "code",
   "execution_count": 0,
   "id": "e5d288",
   "metadata": {
    "collapsed": false
   },
   "outputs": [
   ],
   "source": [
   ]
  },
  {
   "cell_type": "code",
   "execution_count": 0,
   "id": "120426",
   "metadata": {
    "collapsed": false
   },
   "outputs": [
   ],
   "source": [
   ]
  },
  {
   "cell_type": "code",
   "execution_count": 0,
   "id": "db390d",
   "metadata": {
    "collapsed": false
   },
   "outputs": [
   ],
   "source": [
   ]
  },
  {
   "cell_type": "code",
   "execution_count": 0,
   "id": "20cae6",
   "metadata": {
    "collapsed": false
   },
   "outputs": [
   ],
   "source": [
   ]
  },
  {
   "cell_type": "code",
   "execution_count": 0,
   "id": "13439f",
   "metadata": {
    "collapsed": false
   },
   "outputs": [
   ],
   "source": [
   ]
  },
  {
   "cell_type": "code",
   "execution_count": 0,
   "id": "67981d",
   "metadata": {
    "collapsed": false
   },
   "outputs": [
   ],
   "source": [
   ]
  },
  {
   "cell_type": "code",
   "execution_count": 0,
   "id": "ae8547",
   "metadata": {
    "collapsed": false
   },
   "outputs": [
   ],
   "source": [
   ]
  },
  {
   "cell_type": "code",
   "execution_count": 0,
   "id": "34fcf3",
   "metadata": {
    "collapsed": false
   },
   "outputs": [
   ],
   "source": [
   ]
  },
  {
   "cell_type": "code",
   "execution_count": 0,
   "id": "9448d5",
   "metadata": {
    "collapsed": false
   },
   "outputs": [
   ],
   "source": [
   ]
  },
  {
   "cell_type": "code",
   "execution_count": 0,
   "id": "6417bd",
   "metadata": {
    "collapsed": false
   },
   "outputs": [
   ],
   "source": [
   ]
  },
  {
   "cell_type": "code",
   "execution_count": 0,
   "id": "69d51f",
   "metadata": {
    "collapsed": false
   },
   "outputs": [
   ],
   "source": [
   ]
  },
  {
   "cell_type": "code",
   "execution_count": 0,
   "id": "c3dd08",
   "metadata": {
    "collapsed": false
   },
   "outputs": [
   ],
   "source": [
   ]
  }
 ],
 "metadata": {
  "kernelspec": {
   "argv": [
    "sage-9.8",
    "--python",
    "-m",
    "sage.repl.ipython_kernel",
    "--matplotlib=inline",
    "-f",
    "{connection_file}"
   ],
   "display_name": "SageMath 9.8",
   "env": {
   },
   "language": "sagemath",
   "metadata": {
    "cocalc": {
     "description": "Open-source mathematical software system",
     "priority": 1,
     "url": "https://www.sagemath.org/"
    }
   },
   "name": "sage-9.8",
   "resource_dir": "/ext/jupyter/kernels/sage-9.8"
  },
  "language_info": {
   "codemirror_mode": {
    "name": "ipython",
    "version": 3
   },
   "file_extension": ".py",
   "mimetype": "text/x-python",
   "name": "python",
   "nbconvert_exporter": "python",
   "pygments_lexer": "ipython3",
   "version": "3.11.1"
  },
  "nbgrader": {
   "__altered": false,
   "__hash": -335098374,
   "_root": {
    "entries": [
     [
      "cocalc_minimal_stubs",
      false
     ]
    ],
    "ownerID": {
    }
   },
   "cocalc_minimal_stubs": false,
   "size": 1
  }
 },
 "nbformat": 4,
 "nbformat_minor": 4
}