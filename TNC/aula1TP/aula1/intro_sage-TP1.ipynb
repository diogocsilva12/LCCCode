{
 "cells": [
  {
   "cell_type": "markdown",
   "id": "faef48",
   "metadata": {
    "collapsed": false
   },
   "source": [
    "# INTRODUÇÃO AO SAGE"
   ]
  },
  {
   "cell_type": "markdown",
   "id": "505c50",
   "metadata": {
    "collapsed": false
   },
   "source": [
    "<span style='font-size:x-large'>**python**</span><span style='font-size:large'> **como calculadora**</span>\n"
   ]
  },
  {
   "cell_type": "code",
   "execution_count": 59,
   "id": "4a67a8",
   "metadata": {
    "collapsed": false
   },
   "outputs": [
    {
     "data": {
      "text/plain": [
       "2"
      ]
     },
     "execution_count": 59,
     "metadata": {},
     "output_type": "execute_result"
    }
   ],
   "source": [
    "1+1       #para correr o código clicar em Run ou fazer Shift+Enter"
   ]
  },
  {
   "cell_type": "code",
   "execution_count": 1,
   "id": "8e9c93",
   "metadata": {
    "collapsed": false
   },
   "outputs": [
    {
     "data": {
      "text/plain": [
       "450"
      ]
     },
     "execution_count": 1,
     "metadata": {},
     "output_type": "execute_result"
    }
   ],
   "source": [
    "45*10    #multiplicação *"
   ]
  },
  {
   "cell_type": "code",
   "execution_count": 2,
   "id": "70bf3a",
   "metadata": {
    "collapsed": false
   },
   "outputs": [
    {
     "data": {
      "text/plain": [
       "16"
      ]
     },
     "execution_count": 2,
     "metadata": {},
     "output_type": "execute_result"
    }
   ],
   "source": [
    "2^4      #potência ^"
   ]
  },
  {
   "cell_type": "code",
   "execution_count": 3,
   "id": "1d8a43",
   "metadata": {
    "collapsed": false
   },
   "outputs": [
    {
     "data": {
      "text/plain": [
       "16"
      ]
     },
     "execution_count": 3,
     "metadata": {},
     "output_type": "execute_result"
    }
   ],
   "source": [
    "2**4   # potência ** (alternativa)"
   ]
  },
  {
   "cell_type": "markdown",
   "id": "24ea3e",
   "metadata": {
    "collapsed": false
   },
   "source": [
    "<span style='font-size:x-large'>**atribuição de valores a variáveis**</span>\n",
    "\n"
   ]
  },
  {
   "cell_type": "code",
   "execution_count": 4,
   "id": "b16d0b",
   "metadata": {
    "collapsed": false
   },
   "outputs": [],
   "source": [
    "a = 2    # o símbolo = é para ATRIBUIÇÃO\n",
    "#atribuir o valor 2 à variável a   \n"
   ]
  },
  {
   "cell_type": "code",
   "execution_count": 5,
   "id": "a71edf",
   "metadata": {
    "collapsed": false
   },
   "outputs": [
    {
     "data": {
      "text/plain": [
       "2"
      ]
     },
     "execution_count": 5,
     "metadata": {},
     "output_type": "execute_result"
    }
   ],
   "source": [
    "a"
   ]
  },
  {
   "cell_type": "code",
   "execution_count": 6,
   "id": "66775a",
   "metadata": {
    "collapsed": false
   },
   "outputs": [
    {
     "data": {
      "text/plain": [
       "4"
      ]
     },
     "execution_count": 6,
     "metadata": {},
     "output_type": "execute_result"
    }
   ],
   "source": [
    "b=4\n",
    "b"
   ]
  },
  {
   "cell_type": "code",
   "execution_count": 7,
   "id": "071935",
   "metadata": {
    "collapsed": false
   },
   "outputs": [
    {
     "data": {
      "text/plain": [
       "7"
      ]
     },
     "execution_count": 7,
     "metadata": {},
     "output_type": "execute_result"
    }
   ],
   "source": [
    "a+(2*b-3)"
   ]
  },
  {
   "cell_type": "code",
   "execution_count": 8,
   "id": "439994",
   "metadata": {
    "collapsed": false
   },
   "outputs": [],
   "source": [
    "c=10\n",
    "d=2*5"
   ]
  },
  {
   "cell_type": "code",
   "execution_count": 9,
   "id": "8f464e",
   "metadata": {
    "collapsed": false
   },
   "outputs": [
    {
     "data": {
      "text/plain": [
       "True"
      ]
     },
     "execution_count": 9,
     "metadata": {},
     "output_type": "execute_result"
    }
   ],
   "source": [
    "c==d          # o símbolo == é para comparar dois valores\n",
    "             # c tem o mesmo valor que d"
   ]
  },
  {
   "cell_type": "code",
   "execution_count": 10,
   "id": "94d8a0",
   "metadata": {
    "collapsed": false
   },
   "outputs": [
    {
     "data": {
      "text/plain": [
       "False"
      ]
     },
     "execution_count": 10,
     "metadata": {},
     "output_type": "execute_result"
    }
   ],
   "source": [
    "c==11  # c tem o valor 11"
   ]
  },
  {
   "cell_type": "code",
   "execution_count": 11,
   "id": "adcbcc",
   "metadata": {
    "collapsed": false
   },
   "outputs": [],
   "source": [
    "c=11   # atribuir novo valor a c e esse valor é o 11"
   ]
  },
  {
   "cell_type": "code",
   "execution_count": 12,
   "id": "34b3d4",
   "metadata": {
    "collapsed": false
   },
   "outputs": [
    {
     "data": {
      "text/plain": [
       "False"
      ]
     },
     "execution_count": 12,
     "metadata": {},
     "output_type": "execute_result"
    }
   ],
   "source": [
    "c==d"
   ]
  },
  {
   "cell_type": "code",
   "execution_count": 13,
   "id": "783f02",
   "metadata": {
    "collapsed": false
   },
   "outputs": [
    {
     "data": {
      "text/plain": [
       "11"
      ]
     },
     "execution_count": 13,
     "metadata": {},
     "output_type": "execute_result"
    }
   ],
   "source": [
    "c"
   ]
  },
  {
   "cell_type": "code",
   "execution_count": 14,
   "id": "909225",
   "metadata": {
    "collapsed": false
   },
   "outputs": [
    {
     "name": "stdout",
     "output_type": "stream",
     "text": [
      "1 5\n"
     ]
    }
   ],
   "source": [
    "a,b=1,5      #atribuir o valor 1 à variável a e o valor 5 à variável b\n",
    "print(a,b)    # apresentar o valor de a seguido do valor de b"
   ]
  },
  {
   "cell_type": "code",
   "execution_count": 15,
   "id": "2bd94c",
   "metadata": {
    "collapsed": false
   },
   "outputs": [
    {
     "data": {
      "text/plain": [
       "5"
      ]
     },
     "execution_count": 15,
     "metadata": {},
     "output_type": "execute_result"
    }
   ],
   "source": [
    "a=1\n",
    "b=5\n",
    "a\n",
    "b        #apresenta apenas o resultado da última instrução"
   ]
  },
  {
   "cell_type": "code",
   "execution_count": 16,
   "id": "d74c06",
   "metadata": {
    "collapsed": false
   },
   "outputs": [
    {
     "name": "stdout",
     "output_type": "stream",
     "text": [
      "1\n",
      "5\n"
     ]
    }
   ],
   "source": [
    "a=1\n",
    "b=5\n",
    "print(a)    # apresentar o valor de a\n",
    "print(b)     #apresentar o valor de b"
   ]
  },
  {
   "cell_type": "code",
   "execution_count": 17,
   "id": "aa6032",
   "metadata": {
    "collapsed": false
   },
   "outputs": [
    {
     "name": "stdout",
     "output_type": "stream",
     "text": [
      "boa tarde\n"
     ]
    }
   ],
   "source": [
    "c=\"boa tarde\"\n",
    "print(c)"
   ]
  },
  {
   "cell_type": "code",
   "execution_count": 18,
   "id": "8743b7",
   "metadata": {
    "collapsed": false
   },
   "outputs": [
    {
     "data": {
      "text/plain": [
       "5"
      ]
     },
     "execution_count": 18,
     "metadata": {},
     "output_type": "execute_result"
    }
   ],
   "source": [
    "a*b"
   ]
  },
  {
   "cell_type": "code",
   "execution_count": 19,
   "id": "0cab1e",
   "metadata": {
    "collapsed": false
   },
   "outputs": [
    {
     "data": {
      "text/plain": [
       "5/2"
      ]
     },
     "execution_count": 19,
     "metadata": {},
     "output_type": "execute_result"
    }
   ],
   "source": [
    "10/4    # fração reduzida"
   ]
  },
  {
   "cell_type": "code",
   "execution_count": 20,
   "id": "c6e8db",
   "metadata": {
    "collapsed": false
   },
   "outputs": [
    {
     "data": {
      "text/plain": [
       "1/5"
      ]
     },
     "execution_count": 20,
     "metadata": {},
     "output_type": "execute_result"
    }
   ],
   "source": [
    "5/25"
   ]
  },
  {
   "cell_type": "code",
   "execution_count": 21,
   "id": "cb475f",
   "metadata": {
    "collapsed": false
   },
   "outputs": [
    {
     "data": {
      "text/plain": [
       "1/3"
      ]
     },
     "execution_count": 21,
     "metadata": {},
     "output_type": "execute_result"
    }
   ],
   "source": [
    "2/6"
   ]
  },
  {
   "cell_type": "code",
   "execution_count": 22,
   "id": "6d2885",
   "metadata": {
    "collapsed": false
   },
   "outputs": [
    {
     "data": {
      "text/plain": [
       "5"
      ]
     },
     "execution_count": 22,
     "metadata": {},
     "output_type": "execute_result"
    }
   ],
   "source": [
    "10/2     # 5/1=5"
   ]
  },
  {
   "cell_type": "code",
   "execution_count": 23,
   "id": "c7419b",
   "metadata": {
    "collapsed": false
   },
   "outputs": [
    {
     "data": {
      "text/plain": [
       "12/5"
      ]
     },
     "execution_count": 23,
     "metadata": {},
     "output_type": "execute_result"
    }
   ],
   "source": [
    "12/5"
   ]
  },
  {
   "cell_type": "code",
   "execution_count": 24,
   "id": "e7f3ce",
   "metadata": {
    "collapsed": false
   },
   "outputs": [
    {
     "data": {
      "text/plain": [
       "2.50000000000000"
      ]
     },
     "execution_count": 24,
     "metadata": {},
     "output_type": "execute_result"
    }
   ],
   "source": [
    "n(10/4)     #na forma decimal com 15 dígitos (neste caso, corresponder a 14 casas decimais); pode usar-se N(10/4)"
   ]
  },
  {
   "cell_type": "code",
   "execution_count": 25,
   "id": "030ccf",
   "metadata": {
    "collapsed": false
   },
   "outputs": [
    {
     "data": {
      "text/plain": [
       "2.14285714285714"
      ]
     },
     "execution_count": 25,
     "metadata": {},
     "output_type": "execute_result"
    }
   ],
   "source": [
    "n(15/7)"
   ]
  },
  {
   "cell_type": "code",
   "execution_count": 26,
   "id": "f1df9d",
   "metadata": {
    "collapsed": false
   },
   "outputs": [
    {
     "data": {
      "text/plain": [
       "2.143"
      ]
     },
     "execution_count": 26,
     "metadata": {},
     "output_type": "execute_result"
    }
   ],
   "source": [
    "n(15/7, digits=4)    # com 4 dígitos; neste caso, 3 casas decimais"
   ]
  },
  {
   "cell_type": "code",
   "execution_count": 27,
   "id": "67b293",
   "metadata": {
    "collapsed": false
   },
   "outputs": [
    {
     "data": {
      "text/plain": [
       "2"
      ]
     },
     "execution_count": 27,
     "metadata": {},
     "output_type": "execute_result"
    }
   ],
   "source": [
    "10%4    # resto da divisão inteira de 10 por 4  ---- pensar em mod4"
   ]
  },
  {
   "cell_type": "code",
   "execution_count": 28,
   "id": "bdcea3",
   "metadata": {
    "collapsed": false
   },
   "outputs": [
    {
     "data": {
      "text/plain": [
       "1"
      ]
     },
     "execution_count": 28,
     "metadata": {},
     "output_type": "execute_result"
    }
   ],
   "source": [
    "5%4"
   ]
  },
  {
   "cell_type": "code",
   "execution_count": 29,
   "id": "4c6e57",
   "metadata": {
    "collapsed": false
   },
   "outputs": [
    {
     "data": {
      "text/plain": [
       "0"
      ]
     },
     "execution_count": 29,
     "metadata": {},
     "output_type": "execute_result"
    }
   ],
   "source": [
    "8%4"
   ]
  },
  {
   "cell_type": "code",
   "execution_count": 30,
   "id": "ead1e6",
   "metadata": {
    "collapsed": false
   },
   "outputs": [
    {
     "data": {
      "text/plain": [
       "3"
      ]
     },
     "execution_count": 30,
     "metadata": {},
     "output_type": "execute_result"
    }
   ],
   "source": [
    "3%4"
   ]
  },
  {
   "cell_type": "code",
   "execution_count": 31,
   "id": "7d1856",
   "metadata": {
    "collapsed": false
   },
   "outputs": [
    {
     "data": {
      "text/plain": [
       "3"
      ]
     },
     "execution_count": 31,
     "metadata": {},
     "output_type": "execute_result"
    }
   ],
   "source": [
    "7%4"
   ]
  },
  {
   "cell_type": "code",
   "execution_count": 32,
   "id": "c50bcb",
   "metadata": {
    "collapsed": false
   },
   "outputs": [
    {
     "data": {
      "text/plain": [
       "1"
      ]
     },
     "execution_count": 32,
     "metadata": {},
     "output_type": "execute_result"
    }
   ],
   "source": [
    "13%4"
   ]
  },
  {
   "cell_type": "code",
   "execution_count": 33,
   "id": "ca61f9",
   "metadata": {
    "collapsed": false
   },
   "outputs": [
    {
     "data": {
      "text/plain": [
       "3"
      ]
     },
     "execution_count": 33,
     "metadata": {},
     "output_type": "execute_result"
    }
   ],
   "source": [
    "11%4"
   ]
  },
  {
   "cell_type": "code",
   "execution_count": 34,
   "id": "db8805",
   "metadata": {
    "collapsed": false
   },
   "outputs": [
    {
     "data": {
      "text/plain": [
       "2"
      ]
     },
     "execution_count": 34,
     "metadata": {},
     "output_type": "execute_result"
    }
   ],
   "source": [
    "10//4    #quociente inteiro  10 : 4 = 2 (e resto 2)"
   ]
  },
  {
   "cell_type": "code",
   "execution_count": 35,
   "id": "3f2706",
   "metadata": {
    "collapsed": false
   },
   "outputs": [
    {
     "data": {
      "text/plain": [
       "3"
      ]
     },
     "execution_count": 35,
     "metadata": {},
     "output_type": "execute_result"
    }
   ],
   "source": [
    "13//4 # quociente 3 e resto 1"
   ]
  },
  {
   "cell_type": "markdown",
   "id": "cc88e2",
   "metadata": {
    "collapsed": false
   },
   "source": [
    "<span style='font-size:x-large'>**input\\(\\)**</span>\n",
    "\n"
   ]
  },
  {
   "cell_type": "raw",
   "id": "162a12",
   "metadata": {
    "collapsed": false
   },
   "source": [
    "A função input() em Python é usada para receber dados do utilizador através do teclado. Esta função retorna sempre uma string (texto).\n",
    "\n",
    "Se for necessário trabalhar com números, temos de converter a entrada para int (número inteiro) ou float (número decimal)."
   ]
  },
  {
   "cell_type": "raw",
   "id": "701988",
   "metadata": {
    "collapsed": false
   },
   "source": [
    "variavel = input(\"Mensagem para o utilizador: \")"
   ]
  },
  {
   "cell_type": "raw",
   "id": "0b969f",
   "metadata": {
    "collapsed": false
   },
   "source": [
    "O texto dentro do input() serve para orientar o utilizador sobre o que deve escrever.\n",
    "O valor introduzido pelo utilizador é guardado na variável."
   ]
  },
  {
   "cell_type": "code",
   "execution_count": 36,
   "id": "070822",
   "metadata": {
    "cocalc": {
     "outputs": {
      "0": {
       "name": "input",
       "opts": {
        "password": false,
        "prompt": "Como te chamas? "
       },
       "output_type": "stream",
       "value": "Cláudia"
      }
     }
    },
    "collapsed": false
   },
   "outputs": [
    {
     "name": "stdout",
     "output_type": "stream",
     "text": [
      "Olá, Diogo ! Bem-vindo(a)!\n"
     ]
    }
   ],
   "source": [
    "nome = input(\"Como te chamas? \")\n",
    "print(\"Olá,\", nome, \"! Bem-vindo(a)!\")"
   ]
  },
  {
   "cell_type": "raw",
   "id": "d4bafd",
   "metadata": {
    "collapsed": false
   },
   "source": [
    "No exemplo que se segue solicitamos ao utilizador que introduza dois números inteiros e o resultado apresentado é obtido a partir da divisão desses números.\n",
    "\n",
    "Se o utilizador introduzir um número não inteiro receberá uma mensagem de erro. Acontecerá o mesmo se o utilizador introduzir 0 para o divisor."
   ]
  },
  {
   "cell_type": "code",
   "execution_count": 37,
   "id": "52323e",
   "metadata": {
    "cocalc": {
     "outputs": {
      "0": {
       "name": "input",
       "opts": {
        "password": false,
        "prompt": "Digite um número inteiro: "
       },
       "output_type": "stream",
       "value": "87"
      },
      "1": {
       "name": "input",
       "opts": {
        "password": false,
        "prompt": "Digite outro número inteiro (não nulo): "
       },
       "output_type": "stream",
       "value": "23"
      }
     }
    },
    "collapsed": false
   },
   "outputs": [
    {
     "name": "stdout",
     "output_type": "stream",
     "text": [
      "Resultado: 1.0\n"
     ]
    }
   ],
   "source": [
    "num1 = int(input(\"Digite um número inteiro: \"))                    # O input() retorna uma string -- então usamos int() para converter \n",
    "num2 = int(input(\"Digite outro número inteiro (não nulo): \"))      # para número inteiro.\n",
    "resultado = num1/num2\n",
    "print(\"Resultado:\", resultado)"
   ]
  },
  {
   "cell_type": "raw",
   "id": "286d07",
   "metadata": {
    "collapsed": false
   },
   "source": [
    "OBS: Podemos optar por usar float na conversão dos números: com float(input()) permitimos que o utilizador insira números com casas decimais, tornando o programa mais versátil."
   ]
  },
  {
   "cell_type": "code",
   "execution_count": 38,
   "id": "7b4a03",
   "metadata": {
    "cocalc": {
     "outputs": {
      "0": {
       "name": "input",
       "opts": {
        "password": false,
        "prompt": "Digite um número: "
       },
       "output_type": "stream",
       "value": "13.6"
      },
      "1": {
       "name": "input",
       "opts": {
        "password": false,
        "prompt": "Digite outro número (não nulo): "
       },
       "output_type": "stream",
       "value": "87.5"
      }
     }
    },
    "collapsed": false
   },
   "outputs": [
    {
     "name": "stdout",
     "output_type": "stream",
     "text": [
      "Resultado: 1.0\n"
     ]
    }
   ],
   "source": [
    "num1 = float(input(\"Digite um número: \"))\n",
    "num2 = float(input(\"Digite outro número (não nulo): \"))\n",
    "resultado = num1/num2\n",
    "print(\"Resultado:\", resultado)"
   ]
  },
  {
   "cell_type": "markdown",
   "id": "4a1c9c",
   "metadata": {
    "collapsed": false
   },
   "source": [
    "<span style='font-size:x-large'>**IF\\-ELSE**</span>\n",
    "\n"
   ]
  },
  {
   "cell_type": "markdown",
   "id": "6baaac",
   "metadata": {
    "collapsed": false
   },
   "source": [
    "Em Python, a estrutura if\\-else é usada para executar diferentes blocos de código com base numa condição. Se a condição for verdadeira \\(True\\), o bloco dentro do if será executado. Caso contrário, o bloco dentro do else será executado.\n"
   ]
  },
  {
   "cell_type": "raw",
   "id": "13b208",
   "metadata": {
    "collapsed": false
   },
   "source": [
    "if(condição):  \n",
    "      Bloco de instruções indentado para quando a condição for VERDADEIRA  \n",
    "else:  \n",
    "      Bloco de instruções indentado para quando a condição for FALSA  "
   ]
  },
  {
   "cell_type": "code",
   "execution_count": 39,
   "id": "fdedf0",
   "metadata": {
    "collapsed": false
   },
   "outputs": [
    {
     "name": "stdout",
     "output_type": "stream",
     "text": [
      "a é menor do que b\n"
     ]
    }
   ],
   "source": [
    "a=1\n",
    "b=2\n",
    "if a<b:\n",
    "    print(\"a é menor do que b\")\n",
    "else:\n",
    "    print(\"a não é menor do que b\")"
   ]
  },
  {
   "cell_type": "code",
   "execution_count": 40,
   "id": "3721e8",
   "metadata": {
    "collapsed": false
   },
   "outputs": [
    {
     "name": "stdout",
     "output_type": "stream",
     "text": [
      "a não é menor do que b\n"
     ]
    }
   ],
   "source": [
    "a=2\n",
    "b=1\n",
    "if a<b:\n",
    "    print(\"a é menor do que b\")\n",
    "else:\n",
    "    print(\"a não é menor do que b\")"
   ]
  },
  {
   "cell_type": "code",
   "execution_count": 41,
   "id": "4302cc",
   "metadata": {
    "collapsed": false
   },
   "outputs": [
    {
     "name": "stdout",
     "output_type": "stream",
     "text": [
      "a é menor ou igual do que b\n"
     ]
    }
   ],
   "source": [
    "a=2\n",
    "b=4\n",
    "if a<b or a==b:\n",
    "    print(\"a é menor ou igual do que b\")\n",
    "else:\n",
    "    print(\"a não é menor do que b\")"
   ]
  },
  {
   "cell_type": "code",
   "execution_count": 42,
   "id": "9ecc32",
   "metadata": {
    "collapsed": false
   },
   "outputs": [
    {
     "name": "stdout",
     "output_type": "stream",
     "text": [
      "a é menor ou igual do que b\n"
     ]
    }
   ],
   "source": [
    "a=2\n",
    "b=2\n",
    "if a<b or a==b:\n",
    "    print(\"a é menor ou igual do que b\")\n",
    "else:\n",
    "    print(\"a não é menor do que b\")"
   ]
  },
  {
   "cell_type": "code",
   "execution_count": 43,
   "id": "0f52d4",
   "metadata": {
    "cocalc": {
     "outputs": {
      "0": {
       "name": "input",
       "opts": {
        "password": false,
        "prompt": "Digite seu nome: "
       },
       "output_type": "stream",
       "value": "Cláudia"
      }
     }
    },
    "collapsed": false
   },
   "outputs": [
    {
     "name": "stdout",
     "output_type": "stream",
     "text": [
      "Olá, estranho!\n"
     ]
    }
   ],
   "source": [
    "nome = input(\"Digite seu nome: \")      # usando if-else com entrada do utilizador\n",
    "\n",
    "if nome == \"Cláudia\":\n",
    "    print(\"Olá, Cláudia!\")\n",
    "else:\n",
    "    print(\"Olá, estranho!\")\n"
   ]
  },
  {
   "cell_type": "code",
   "execution_count": 44,
   "id": "4f7f02",
   "metadata": {
    "cocalc": {
     "outputs": {
      "0": {
       "name": "input",
       "opts": {
        "password": false,
        "prompt": "Digite um número: "
       },
       "output_type": "stream",
       "value": "89"
      },
      "1": {
       "name": "input",
       "opts": {
        "password": false,
        "prompt": "Digite um outro número: "
       },
       "output_type": "stream",
       "value": "34.8"
      }
     }
    },
    "collapsed": false,
    "scrolled": true
   },
   "outputs": [
    {
     "name": "stdout",
     "output_type": "stream",
     "text": [
      "a é menor ou igual do que b\n"
     ]
    }
   ],
   "source": [
    "a=float(input(\"Digite um número: \"))    \n",
    "b=float(input(\"Digite um outro número: \"))\n",
    "if a<b or a==b:                                 # para decidir se a<b, temos de converter a string para número\n",
    "    print(\"a é menor ou igual do que b\")\n",
    "else:\n",
    "    print(\"a não é menor do que b\")"
   ]
  },
  {
   "cell_type": "markdown",
   "id": "ef9dea",
   "metadata": {
    "collapsed": false
   },
   "source": [
    "<span style='font-size:x-large'>**IF\\-ELIF\\-ELSE**</span>\n",
    "\n"
   ]
  },
  {
   "cell_type": "markdown",
   "id": "d22c59",
   "metadata": {
    "collapsed": false
   },
   "source": [
    "<span style='font-size:large'>A estrutura if\\-elif\\-else é usada para tomar decisões com base em múltiplas condições.</span>\n"
   ]
  },
  {
   "cell_type": "raw",
   "id": "8386f4",
   "metadata": {
    "collapsed": false
   },
   "source": [
    "if(condição1):\n",
    "    Bloco de instruções indentado para quando a condição1 for VERDADEIRA\n",
    "elif(condição2):\n",
    "    Bloco de instruções indentado para quando a condição1 for FALSA e a condição2 for VERDADEIRA\n",
    "elif(condição3):\n",
    "    Bloco de instruções indentado para quando as condições anteriores forem FALSAS e a condição3 for VERDADEIRA\n",
    "else:\n",
    "    Bloco de instruções indentado para quando nenhuma das condições anteriores for VERDADEIRA\n"
   ]
  },
  {
   "cell_type": "code",
   "execution_count": 45,
   "id": "97696a",
   "metadata": {
    "cocalc": {
     "outputs": {
      "0": {
       "name": "input",
       "opts": {
        "password": false,
        "prompt": "Digite o primeiro número: "
       },
       "output_type": "stream",
       "value": "13"
      },
      "1": {
       "name": "input",
       "opts": {
        "password": false,
        "prompt": "Digite o segundo número: "
       },
       "output_type": "stream",
       "value": "25"
      },
      "2": {
       "name": "input",
       "opts": {
        "password": false,
        "prompt": "Escolha a operação (+, -, *, /): "
       },
       "output_type": "stream",
       "value": "/"
      }
     }
    },
    "collapsed": false
   },
   "outputs": [
    {
     "name": "stdout",
     "output_type": "stream",
     "text": [
      "O resultado de 2.0 + 2.0 é 4.0\n"
     ]
    }
   ],
   "source": [
    "# Solicita os números ao utilizador\n",
    "num1 = float(input(\"Digite o primeiro número: \"))\n",
    "num2 = float(input(\"Digite o segundo número: \"))\n",
    "\n",
    "# Solicita a operação desejada ao utilizador\n",
    "operacao = input(\"Escolha a operação (+, -, *, /): \")\n",
    "\n",
    "# Estrutura if-elif-else para calcular o resultado\n",
    "if operacao == \"+\":\n",
    "    resultado = num1 + num2\n",
    "    print(f\"O resultado de {num1} + {num2} é {resultado}\")\n",
    "elif operacao == \"-\":\n",
    "    resultado = num1 - num2\n",
    "    print(f\"O resultado de {num1} - {num2} é {resultado}\")\n",
    "elif operacao == \"*\":\n",
    "    resultado = num1 * num2\n",
    "    print(f\"O resultado de {num1} * {num2} é {resultado}\")\n",
    "elif operacao == \"/\":\n",
    "    if num2 != 0:\n",
    "        resultado = num1 / num2\n",
    "        print(f\"O resultado de {num1} / {num2} é {resultado}\")\n",
    "    else:\n",
    "        print(\"Erro: divisão por zero não é permitida.\")\n",
    "else:\n",
    "    print(\"Operação inválida. Escolha entre +, -, * ou /.\")"
   ]
  },
  {
   "cell_type": "markdown",
   "id": "d1ea15",
   "metadata": {
    "collapsed": false
   },
   "source": [
    "# LISTAS\n",
    "\n"
   ]
  },
  {
   "cell_type": "code",
   "execution_count": 46,
   "id": "6ec677",
   "metadata": {
    "collapsed": false
   },
   "outputs": [],
   "source": [
    "L=[3,10,25,4,-1,12,5,9]     #lista definida por extensão --- faço a listagem dos elementos dentro de parênteses\n",
    "                            #retos e separados por vírgulas"
   ]
  },
  {
   "cell_type": "code",
   "execution_count": 47,
   "id": "c78eba",
   "metadata": {
    "collapsed": false
   },
   "outputs": [
    {
     "data": {
      "text/plain": [
       "[3, 10, 25, 4, -1, 12, 5, 9]"
      ]
     },
     "execution_count": 47,
     "metadata": {},
     "output_type": "execute_result"
    }
   ],
   "source": [
    "L  #ou print(L)"
   ]
  },
  {
   "cell_type": "code",
   "execution_count": 48,
   "id": "72d0fb",
   "metadata": {
    "collapsed": false
   },
   "outputs": [
    {
     "data": {
      "text/plain": [
       "3"
      ]
     },
     "execution_count": 48,
     "metadata": {},
     "output_type": "execute_result"
    }
   ],
   "source": [
    "L[0]  #elemento de L na posição 0"
   ]
  },
  {
   "cell_type": "code",
   "execution_count": 49,
   "id": "13d7e3",
   "metadata": {
    "collapsed": false
   },
   "outputs": [
    {
     "data": {
      "text/plain": [
       "4"
      ]
     },
     "execution_count": 49,
     "metadata": {},
     "output_type": "execute_result"
    }
   ],
   "source": [
    "L[3]   #elemento de L na posição 3"
   ]
  },
  {
   "cell_type": "code",
   "execution_count": 50,
   "id": "0f2e4a",
   "metadata": {
    "collapsed": false
   },
   "outputs": [
    {
     "data": {
      "text/plain": [
       "[10, 25, 4]"
      ]
     },
     "execution_count": 50,
     "metadata": {},
     "output_type": "execute_result"
    }
   ],
   "source": [
    "L[1:4]   #sublista de L com os elementos na posição 1 até 3 (3=4-1)"
   ]
  },
  {
   "cell_type": "code",
   "execution_count": 51,
   "id": "778e47",
   "metadata": {
    "collapsed": false
   },
   "outputs": [
    {
     "data": {
      "text/plain": [
       "[-1, 3, 4, 5, 9, 10, 12, 25]"
      ]
     },
     "execution_count": 51,
     "metadata": {},
     "output_type": "execute_result"
    }
   ],
   "source": [
    "L.sort()    #ordena os elementos de L por ordem crescente --- altera L\n",
    "L"
   ]
  },
  {
   "cell_type": "code",
   "execution_count": 52,
   "id": "373e3e",
   "metadata": {
    "collapsed": false
   },
   "outputs": [
    {
     "data": {
      "text/plain": [
       "-1"
      ]
     },
     "execution_count": 52,
     "metadata": {},
     "output_type": "execute_result"
    }
   ],
   "source": [
    "L[0] "
   ]
  },
  {
   "cell_type": "code",
   "execution_count": 53,
   "id": "0735f1",
   "metadata": {
    "collapsed": false
   },
   "outputs": [
    {
     "data": {
      "text/plain": [
       "[25, 12, 10, 9, 5, 4, 3, -1]"
      ]
     },
     "execution_count": 53,
     "metadata": {},
     "output_type": "execute_result"
    }
   ],
   "source": [
    "L.reverse()   #inverte a ordem dos elementos de L\n",
    "L"
   ]
  },
  {
   "cell_type": "code",
   "execution_count": 54,
   "id": "cd48ce",
   "metadata": {
    "collapsed": false
   },
   "outputs": [
    {
     "data": {
      "text/plain": [
       "25"
      ]
     },
     "execution_count": 54,
     "metadata": {},
     "output_type": "execute_result"
    }
   ],
   "source": [
    "L[0]"
   ]
  },
  {
   "cell_type": "code",
   "execution_count": 55,
   "id": "e8e216",
   "metadata": {
    "collapsed": false
   },
   "outputs": [
    {
     "data": {
      "text/plain": [
       "8"
      ]
     },
     "execution_count": 55,
     "metadata": {},
     "output_type": "execute_result"
    }
   ],
   "source": [
    "len(L)   #len é o mesmo que comprimento --- length\n",
    "         #len(list): número de elementos da lista"
   ]
  },
  {
   "cell_type": "raw",
   "id": "182504",
   "metadata": {
    "collapsed": false
   },
   "source": [
    "A função len() em Python é usada para contar o número de elementos de uma sequência, como cadeias de caracteres (strings), listas (list), tuplos (tuple), dicionários (dict) e conjuntos (set)."
   ]
  },
  {
   "cell_type": "code",
   "execution_count": 56,
   "id": "a6fb01",
   "metadata": {
    "collapsed": false
   },
   "outputs": [],
   "source": [
    "a=\"matematica\""
   ]
  },
  {
   "cell_type": "code",
   "execution_count": 57,
   "id": "3f41f2",
   "metadata": {
    "collapsed": false
   },
   "outputs": [
    {
     "data": {
      "text/plain": [
       "10"
      ]
     },
     "execution_count": 57,
     "metadata": {},
     "output_type": "execute_result"
    }
   ],
   "source": [
    "len(a)          # len(string): número de caracteres (incluindo espaços)"
   ]
  },
  {
   "cell_type": "code",
   "execution_count": 60,
   "id": "952ba7",
   "metadata": {
    "collapsed": false
   },
   "outputs": [
    {
     "ename": "TypeError",
     "evalue": "object of type 'sage.rings.integer.Integer' has no len()",
     "output_type": "error",
     "traceback": [
      "\u001b[0;31m---------------------------------------------------------------------------\u001b[0m",
      "\u001b[0;31mTypeError\u001b[0m                                 Traceback (most recent call last)",
      "Cell \u001b[0;32mIn[60], line 2\u001b[0m\n\u001b[1;32m      1\u001b[0m b\u001b[38;5;241m=\u001b[39mInteger(\u001b[38;5;241m123456\u001b[39m)\n\u001b[0;32m----> 2\u001b[0m \u001b[38;5;28;43mlen\u001b[39;49m\u001b[43m(\u001b[49m\u001b[43mb\u001b[49m\u001b[43m)\u001b[49m           \u001b[38;5;66;03m# b é entendido como um inteiro; não está definida lens(b)\u001b[39;00m\n",
      "\u001b[0;31mTypeError\u001b[0m: object of type 'sage.rings.integer.Integer' has no len()"
     ]
    }
   ],
   "source": [
    "b=123456\n",
    "len(b)           # b é entendido como um inteiro; não está definida lens(b)"
   ]
  },
  {
   "cell_type": "code",
   "execution_count": 61,
   "id": "f93253",
   "metadata": {
    "collapsed": false
   },
   "outputs": [
    {
     "data": {
      "text/plain": [
       "6"
      ]
     },
     "execution_count": 61,
     "metadata": {},
     "output_type": "execute_result"
    }
   ],
   "source": [
    "len(str(b))   # comprimento da string definida por b"
   ]
  },
  {
   "cell_type": "code",
   "execution_count": 0,
   "id": "c57798",
   "metadata": {
    "collapsed": false
   },
   "outputs": [],
   "source": [
    "type(b)     #tipo de b    (é um inteiro)"
   ]
  },
  {
   "cell_type": "code",
   "execution_count": 0,
   "id": "718f41",
   "metadata": {
    "collapsed": false
   },
   "outputs": [],
   "source": [
    "type(a)     #tipo de a: a é uma string (palavra)"
   ]
  },
  {
   "cell_type": "code",
   "execution_count": 0,
   "id": "aa2b7f",
   "metadata": {
    "collapsed": false
   },
   "outputs": [],
   "source": [
    "type(L)   #tipo de L: L é uma lista"
   ]
  },
  {
   "cell_type": "code",
   "execution_count": 0,
   "id": "ad39b5",
   "metadata": {
    "collapsed": false
   },
   "outputs": [],
   "source": [
    "L"
   ]
  },
  {
   "cell_type": "code",
   "execution_count": 0,
   "id": "63cb91",
   "metadata": {
    "collapsed": false
   },
   "outputs": [],
   "source": [
    "L[0]=100     # substitui o elemento na posição 0 por 100\n",
    "L"
   ]
  },
  {
   "cell_type": "code",
   "execution_count": 0,
   "id": "4875e0",
   "metadata": {
    "collapsed": false
   },
   "outputs": [],
   "source": [
    "L[1],L[7]=L[7],L[1]     # trocar os elementos nas posições 1 e 7\n",
    "L"
   ]
  },
  {
   "cell_type": "code",
   "execution_count": 0,
   "id": "3963da",
   "metadata": {
    "collapsed": false
   },
   "outputs": [],
   "source": [
    "L.append(35)    #acrescenta o elemento 35\n",
    "L"
   ]
  },
  {
   "cell_type": "code",
   "execution_count": 0,
   "id": "79d484",
   "metadata": {
    "collapsed": false
   },
   "outputs": [],
   "source": [
    "T=[2,4,6]"
   ]
  },
  {
   "cell_type": "code",
   "execution_count": 0,
   "id": "1a242c",
   "metadata": {
    "collapsed": false
   },
   "outputs": [],
   "source": [
    "L+T        #cria a lista formada pelos elementos de L e pelos elementos de T"
   ]
  },
  {
   "cell_type": "code",
   "execution_count": 0,
   "id": "b85122",
   "metadata": {
    "collapsed": false
   },
   "outputs": [],
   "source": [
    "L    # ao fazer L+T não alteramos L"
   ]
  },
  {
   "cell_type": "code",
   "execution_count": 0,
   "id": "a29e1e",
   "metadata": {
    "collapsed": false
   },
   "outputs": [],
   "source": [
    "L=L+T    # atribuir L+T à variável L  --- já alteramos L"
   ]
  },
  {
   "cell_type": "code",
   "execution_count": 0,
   "id": "17c532",
   "metadata": {
    "collapsed": false
   },
   "outputs": [],
   "source": [
    "L"
   ]
  },
  {
   "cell_type": "code",
   "execution_count": 0,
   "id": "5910ef",
   "metadata": {
    "collapsed": false
   },
   "outputs": [],
   "source": [
    "R=[3,7,2]\n",
    "print(R+L)\n",
    "print(L+R)"
   ]
  },
  {
   "cell_type": "markdown",
   "id": "8bb5cf",
   "metadata": {
    "collapsed": false
   },
   "source": [
    "<span style='font-size:x-large'>**função is\\_prime\\(\\)**</span>\n"
   ]
  },
  {
   "cell_type": "markdown",
   "id": "6dd7ba",
   "metadata": {
    "collapsed": false
   },
   "source": [
    "A função is\\_prime\\(\\) é utilizada para determinar se um número é primo. Para números inteiros, utiliza um teste de primalidade adequado, enquanto para números racionais, retorna False.\n"
   ]
  },
  {
   "cell_type": "code",
   "execution_count": 0,
   "id": "806e63",
   "metadata": {
    "collapsed": false
   },
   "outputs": [],
   "source": [
    "is_prime(15)   #is_prime(p) diz-nos se um natural p é ou não primo\n",
    "               # 15 é primo?"
   ]
  },
  {
   "cell_type": "code",
   "execution_count": 0,
   "id": "264202",
   "metadata": {
    "collapsed": false
   },
   "outputs": [],
   "source": [
    "15.is_prime()"
   ]
  },
  {
   "cell_type": "code",
   "execution_count": 0,
   "id": "04a482",
   "metadata": {
    "collapsed": false
   },
   "outputs": [],
   "source": [
    "is_prime(11)"
   ]
  },
  {
   "cell_type": "code",
   "execution_count": 0,
   "id": "9f7078",
   "metadata": {
    "collapsed": false
   },
   "outputs": [],
   "source": [
    "list(range(1,5))   # lista com os naturais de 1 a 4 (4=5-1)"
   ]
  },
  {
   "cell_type": "code",
   "execution_count": 0,
   "id": "aebe0e",
   "metadata": {
    "collapsed": false
   },
   "outputs": [],
   "source": [
    "list(range(10,100)) ;  # com o ; já não apresenta o output"
   ]
  },
  {
   "cell_type": "code",
   "execution_count": 0,
   "id": "18df3c",
   "metadata": {
    "collapsed": false
   },
   "outputs": [],
   "source": [
    "list(range(6))   # faz o mesmo que list(range(0,6))"
   ]
  },
  {
   "cell_type": "code",
   "execution_count": 0,
   "id": "6f2dc5",
   "metadata": {
    "collapsed": false
   },
   "outputs": [],
   "source": [
    "prime_range(10)   #primos menores que 10"
   ]
  },
  {
   "cell_type": "code",
   "execution_count": 0,
   "id": "b32f58",
   "metadata": {
    "collapsed": false
   },
   "outputs": [],
   "source": [
    "prime_range(11)"
   ]
  },
  {
   "cell_type": "code",
   "execution_count": 0,
   "id": "5bc04b",
   "metadata": {
    "collapsed": false
   },
   "outputs": [],
   "source": [
    "prime_range(10,38)   #primos >=10 e <38"
   ]
  },
  {
   "cell_type": "code",
   "execution_count": 0,
   "id": "408270",
   "metadata": {
    "collapsed": false
   },
   "outputs": [],
   "source": [
    "L=[n for n in range(20,38)]    # é o mesmo que list(range(20,38))\n",
    "L"
   ]
  },
  {
   "cell_type": "code",
   "execution_count": 0,
   "id": "6d6b42",
   "metadata": {
    "collapsed": false
   },
   "outputs": [],
   "source": [
    "L=[n for n in range(20,38) if is_prime(n)]  # lista dos primos entre 20 (inclusive) e 38 (exclusive)\n",
    "L"
   ]
  },
  {
   "cell_type": "code",
   "execution_count": 0,
   "id": "ce3573",
   "metadata": {
    "collapsed": false
   },
   "outputs": [],
   "source": [
    "T=[n^2 for n in L]     # quadrados dos elementos de L\n",
    "T"
   ]
  },
  {
   "cell_type": "code",
   "execution_count": 0,
   "id": "e44aa4",
   "metadata": {
    "collapsed": false
   },
   "outputs": [],
   "source": [
    "R=[2*n for n in L]\n",
    "R"
   ]
  },
  {
   "cell_type": "code",
   "execution_count": 0,
   "id": "877e70",
   "metadata": {
    "collapsed": false
   },
   "outputs": [],
   "source": [
    "for n in L:\n",
    "    print(2*n)"
   ]
  },
  {
   "cell_type": "code",
   "execution_count": 0,
   "id": "07ac74",
   "metadata": {
    "collapsed": false
   },
   "outputs": [],
   "source": [
    "P=[n for n in range(20) if n%2==0]     # lista dos pares menores que 20\n",
    "P"
   ]
  },
  {
   "cell_type": "code",
   "execution_count": 0,
   "id": "57290f",
   "metadata": {
    "collapsed": false
   },
   "outputs": [],
   "source": [
    "Q=[]     # começamos com a lista vazia\n",
    "for n in range(20):    #para n de 0 até 20 (exclusive)\n",
    "    if n%2==0:        # se n for par\n",
    "        Q.append(n)    # juntar n à lista Q\n",
    "print(Q)"
   ]
  },
  {
   "cell_type": "code",
   "execution_count": 0,
   "id": "35e6c5",
   "metadata": {
    "collapsed": false
   },
   "outputs": [],
   "source": []
  }
 ],
 "metadata": {
  "kernelspec": {
   "argv": [
    "sage-9.8",
    "--python",
    "-m",
    "sage.repl.ipython_kernel",
    "--matplotlib=inline",
    "-f",
    "{connection_file}"
   ],
   "display_name": "SageMath 10.5",
   "env": {},
   "language": "sage",
   "name": "SageMath-10.5",
   "resource_dir": "/ext/jupyter/kernels/sage-9.8"
  },
  "language_info": {
   "codemirror_mode": {
    "name": "ipython",
    "version": 3
   },
   "file_extension": ".py",
   "mimetype": "text/x-python",
   "name": "python",
   "nbconvert_exporter": "python",
   "pygments_lexer": "ipython3",
   "version": "3.12.5"
  },
  "nbgrader": {
   "__altered": false,
   "__hash": 1043241747,
   "_root": {
    "entries": [
     [
      "__altered",
      false
     ],
     [
      "__hash",
      -335098374
     ],
     [
      "_root",
      {
       "entries": [
        [
         "cocalc_minimal_stubs",
         false
        ]
       ],
       "ownerID": {}
      }
     ],
     [
      "cocalc_minimal_stubs",
      false
     ],
     [
      "size",
      1
     ]
    ],
    "ownerID": {}
   },
   "cocalc_minimal_stubs": false,
   "size": 5
  }
 },
 "nbformat": 4,
 "nbformat_minor": 4
}
